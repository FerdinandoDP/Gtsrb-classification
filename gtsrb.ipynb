{
  "nbformat": 4,
  "nbformat_minor": 0,
  "metadata": {
    "colab": {
      "provenance": [],
      "gpuType": "T4"
    },
    "kernelspec": {
      "name": "python3",
      "display_name": "Python 3"
    },
    "language_info": {
      "name": "python"
    },
    "accelerator": "GPU"
  },
  "cells": [
    {
      "cell_type": "markdown",
      "source": [
        "# Importing libraries and dataset\n",
        "\n",
        "\n"
      ],
      "metadata": {
        "id": "Ef3lg1m2SrHk"
      }
    },
    {
      "cell_type": "code",
      "execution_count": 1,
      "metadata": {
        "id": "0iXXp6-IOBv8"
      },
      "outputs": [],
      "source": [
        "import scipy.io as sio\n",
        "import pandas as pd\n",
        "import torch\n",
        "import torch.nn as nn\n",
        "import torch.optim as optim\n",
        "from torch.optim import lr_scheduler\n",
        "import numpy as np\n",
        "import torchvision\n",
        "from torchvision import datasets, models, transforms\n",
        "import torch.utils.data as dataloader\n",
        "import matplotlib.pyplot as plt\n",
        "import time\n",
        "import os\n",
        "import shutil\n",
        "import copy\n",
        "import random\n",
        "from random import shuffle\n",
        "import matplotlib.pyplot as plt\n",
        "import torch.nn.functional as F\n",
        "from torch.utils.data import Dataset, DataLoader\n",
        "import torchvision.transforms as T"
      ]
    },
    {
      "cell_type": "code",
      "source": [
        "dataset_gtsrb_t = torchvision.datasets.GTSRB('/content/GTSRB_root', download=True)"
      ],
      "metadata": {
        "colab": {
          "base_uri": "https://localhost:8080/"
        },
        "id": "tll10KyeO_gI",
        "outputId": "8cafdfe8-443a-429d-d9b8-8e9d1c7bf4a2"
      },
      "execution_count": 2,
      "outputs": [
        {
          "output_type": "stream",
          "name": "stdout",
          "text": [
            "Downloading https://sid.erda.dk/public/archives/daaeac0d7ce1152aea9b61d9f1e19370/GTSRB-Training_fixed.zip to /content/GTSRB_root/gtsrb/GTSRB-Training_fixed.zip\n"
          ]
        },
        {
          "output_type": "stream",
          "name": "stderr",
          "text": [
            "100%|██████████| 187490228/187490228 [00:01<00:00, 103958920.06it/s]\n"
          ]
        },
        {
          "output_type": "stream",
          "name": "stdout",
          "text": [
            "Extracting /content/GTSRB_root/gtsrb/GTSRB-Training_fixed.zip to /content/GTSRB_root/gtsrb\n"
          ]
        }
      ]
    },
    {
      "cell_type": "code",
      "source": [
        "print(len(dataset_gtsrb_t))"
      ],
      "metadata": {
        "id": "BRHGrQpZQNVN",
        "colab": {
          "base_uri": "https://localhost:8080/"
        },
        "outputId": "85521c90-ba4d-48b0-fe19-4c61e2318e6a"
      },
      "execution_count": 3,
      "outputs": [
        {
          "output_type": "stream",
          "name": "stdout",
          "text": [
            "26640\n"
          ]
        }
      ]
    },
    {
      "cell_type": "code",
      "source": [
        "torch.manual_seed(0)\n",
        "np.random.seed(0)\n",
        "torch.backends.cudnn.deterministic = True\n",
        "torch.backends.cudnn.benchmark = False"
      ],
      "metadata": {
        "id": "AQ00sJtQQXAg"
      },
      "execution_count": 4,
      "outputs": []
    },
    {
      "cell_type": "markdown",
      "source": [
        "# Understanding Data"
      ],
      "metadata": {
        "id": "gq09Ts8YaZ-N"
      }
    },
    {
      "cell_type": "code",
      "source": [
        "plt.imshow(dataset_gtsrb_t[0][0])"
      ],
      "metadata": {
        "id": "cPKvSO0wQeD8",
        "colab": {
          "base_uri": "https://localhost:8080/",
          "height": 448
        },
        "outputId": "cdcd725e-101c-45e0-a880-44aaee45455c"
      },
      "execution_count": 5,
      "outputs": [
        {
          "output_type": "execute_result",
          "data": {
            "text/plain": [
              "<matplotlib.image.AxesImage at 0x7f3ac347b4f0>"
            ]
          },
          "metadata": {},
          "execution_count": 5
        },
        {
          "output_type": "display_data",
          "data": {
            "text/plain": [
              "<Figure size 640x480 with 1 Axes>"
            ],
            "image/png": "[encoded data removed]"
          },
          "metadata": {}
        }
      ]
    },
    {
      "cell_type": "code",
      "source": [
        "num_elem = np.zeros((43,), dtype=int)\n",
        "for _,target in dataset_gtsrb_t:\n",
        "  match target:\n",
        "    case 0:\n",
        "      num_elem[0] = num_elem[0] + 1\n",
        "    case 1:\n",
        "      num_elem[1] = num_elem[1] + 1\n",
        "    case 2:\n",
        "      num_elem[2] = num_elem[2] + 1\n",
        "    case 3:\n",
        "      num_elem[3] = num_elem[3] + 1\n",
        "    case 4:\n",
        "      num_elem[4] = num_elem[4] + 1\n",
        "    case 5:\n",
        "      num_elem[5] = num_elem[5] + 1\n",
        "    case 6:\n",
        "      num_elem[6] = num_elem[6] + 1\n",
        "    case 7:\n",
        "      num_elem[7] = num_elem[7] + 1\n",
        "    case 8:\n",
        "      num_elem[8] = num_elem[8] + 1\n",
        "    case 9:\n",
        "      num_elem[9] = num_elem[9] + 1\n",
        "    case 10:\n",
        "      num_elem[10] = num_elem[10] + 1\n",
        "    case 11:\n",
        "      num_elem[11] = num_elem[11] + 1\n",
        "    case 12:\n",
        "      num_elem[12] = num_elem[12] + 1\n",
        "    case 13:\n",
        "      num_elem[13] = num_elem[13] + 1\n",
        "    case 14:\n",
        "      num_elem[14] = num_elem[14] + 1\n",
        "    case 15:\n",
        "      num_elem[15] = num_elem[15] + 1\n",
        "    case 16:\n",
        "      num_elem[16] = num_elem[16] + 1\n",
        "    case 17:\n",
        "      num_elem[17] = num_elem[17] + 1\n",
        "    case 18:\n",
        "      num_elem[18] = num_elem[18] + 1\n",
        "    case 19:\n",
        "      num_elem[19] = num_elem[19] + 1\n",
        "    case 20:\n",
        "      num_elem[20] = num_elem[20] + 1\n",
        "    case 21:\n",
        "      num_elem[21] = num_elem[21] + 1\n",
        "    case 22:\n",
        "      num_elem[22] = num_elem[22] + 1\n",
        "    case 23:\n",
        "      num_elem[23] = num_elem[23] + 1\n",
        "    case 24:\n",
        "      num_elem[24] = num_elem[24] + 1\n",
        "    case 25:\n",
        "      num_elem[25] = num_elem[25] + 1\n",
        "    case 26:\n",
        "      num_elem[26] = num_elem[26] + 1\n",
        "    case 27:\n",
        "      num_elem[27] = num_elem[27] + 1\n",
        "    case 28:\n",
        "      num_elem[28] = num_elem[28] + 1\n",
        "    case 29:\n",
        "      num_elem[29] = num_elem[29] + 1\n",
        "    case 30:\n",
        "      num_elem[30] = num_elem[30] + 1\n",
        "    case 31:\n",
        "      num_elem[31] = num_elem[1] + 1\n",
        "    case 32:\n",
        "      num_elem[32] = num_elem[32] + 1\n",
        "    case 33:\n",
        "      num_elem[33] = num_elem[33] + 1\n",
        "    case 34:\n",
        "      num_elem[34] = num_elem[34] + 1\n",
        "    case 35:\n",
        "      num_elem[35] = num_elem[35] + 1\n",
        "    case 36:\n",
        "      num_elem[36] = num_elem[36] + 1\n",
        "    case 37:\n",
        "      num_elem[37] = num_elem[37] + 1\n",
        "    case 38:\n",
        "      num_elem[38] = num_elem[38] + 1\n",
        "    case 39:\n",
        "      num_elem[39] = num_elem[39] + 1\n",
        "    case 40:\n",
        "      num_elem[40] = num_elem[40] + 1\n",
        "    case 41:\n",
        "      num_elem[41] = num_elem[41] + 1\n",
        "    case 42:\n",
        "      num_elem[42] = num_elem[42] + 1"
      ],
      "metadata": {
        "id": "7v4udJ4nV41J"
      },
      "execution_count": 6,
      "outputs": []
    },
    {
      "cell_type": "code",
      "source": [
        "y= num_elem\n",
        "x= [0,1,2,3,4,5,6,7,8,9,10,11,12,13,14,15,16,17,18,19,20,21,22,23,24,25,26,27,28,29,30,31,32,33,34,35,36,37,38,39,40,41,42]\n",
        "plt.bar(x,y,align='center') # A bar chart\n",
        "plt.xlabel('Class')\n",
        "plt.ylabel('Frequency')\n",
        "\n",
        "plt.show()"
      ],
      "metadata": {
        "id": "WL2w4R8udKbj",
        "colab": {
          "base_uri": "https://localhost:8080/",
          "height": 449
        },
        "outputId": "bdb0878e-37ee-452f-e3bb-e66503b896e5"
      },
      "execution_count": 7,
      "outputs": [
        {
          "output_type": "display_data",
          "data": {
            "text/plain": [
              "<Figure size 640x480 with 1 Axes>"
            ],
            "image/png": "[encoded data removed]"
          },
          "metadata": {}
        }
      ]
    },
    {
      "cell_type": "code",
      "source": [
        "print(num_elem)"
      ],
      "metadata": {
        "id": "Ki2Ljgff0Z-b",
        "colab": {
          "base_uri": "https://localhost:8080/"
        },
        "outputId": "75d6907f-03ce-445d-ea22-4f598204dd12"
      },
      "execution_count": 8,
      "outputs": [
        {
          "output_type": "stream",
          "name": "stdout",
          "text": [
            "[ 150 1500 1500  960 1320 1260  300  960  960  990 1350  900 1410 1440\n",
            "  540  420  300  750  810  150  240  240  270  360  180 1020  420  180\n",
            "  360  180  300 1501  180  480  300  810  270  150 1380  210  240  180\n",
            "  180]\n"
          ]
        }
      ]
    },
    {
      "cell_type": "markdown",
      "source": [
        "we can see that there are more classes with less occurrences so we will try to increase properly the number of images with data augmentation tecnique"
      ],
      "metadata": {
        "id": "m42Xrk5h1ozF"
      }
    },
    {
      "cell_type": "code",
      "source": [
        "print('classes with less than 200 elements:')\n",
        "for i in range(43):\n",
        "  if num_elem[i] < 200:\n",
        "     print(i)\n",
        "\n",
        "print('classes with number of elements between 200 and 300:')\n",
        "for i in range(43):\n",
        "  if num_elem[i] > 200 and num_elem[i] < 300:\n",
        "     print(i)\n",
        "\n",
        "print('classes with number of elements between 300 and 400:')\n",
        "for i in range(43):\n",
        "  if num_elem[i] >= 300 and num_elem[i] < 400:\n",
        "     print(i)\n",
        "\n",
        "print('classes with number of elements between 400 and 500:')\n",
        "for i in range(43):\n",
        "  if num_elem[i] >= 400 and num_elem[i] < 500:\n",
        "     print(i)\n",
        "\n",
        "print('classes with number of elements between 500 and 820:')\n",
        "for i in range(43):\n",
        "  if num_elem[i] >= 500 and num_elem[i] < 820:\n",
        "     print(i)"
      ],
      "metadata": {
        "id": "OcgeBzs-1nuF",
        "colab": {
          "base_uri": "https://localhost:8080/"
        },
        "outputId": "5391f8af-8a77-4992-c07b-ef0372ef8b7e"
      },
      "execution_count": 9,
      "outputs": [
        {
          "output_type": "stream",
          "name": "stdout",
          "text": [
            "classes with less than 200 elements:\n",
            "0\n",
            "19\n",
            "24\n",
            "27\n",
            "29\n",
            "32\n",
            "37\n",
            "41\n",
            "42\n",
            "classes with number of elements between 200 and 300:\n",
            "20\n",
            "21\n",
            "22\n",
            "36\n",
            "39\n",
            "40\n",
            "classes with number of elements between 300 and 400:\n",
            "6\n",
            "16\n",
            "23\n",
            "28\n",
            "30\n",
            "34\n",
            "classes with number of elements between 400 and 500:\n",
            "15\n",
            "26\n",
            "33\n",
            "classes with number of elements between 500 and 820:\n",
            "14\n",
            "17\n",
            "18\n",
            "35\n"
          ]
        }
      ]
    },
    {
      "cell_type": "markdown",
      "source": [
        "so we divided the images in 6 parts:\n",
        "  - classes with less of 200 occurrences\n",
        "  - classes with elements between 200 and 300\n",
        "  - classes with elements between 300 and 400\n",
        "  - classes with elements between 400 and 500\n",
        "  - classes with elements between 500 and 820\n",
        "  - classes with more than 820 occurrences\n",
        "\n",
        "In this way we will increase the number of images basing on different groups.\n",
        "We decided to increase:\n",
        "  - 7 times the number of occurrences for the first group\n",
        "  - 6 times the number of occurrences for the second group\n",
        "  - 4 times the number of occurrences for the third group\n",
        "  - 3 times the number of occurrences for the fourth group\n",
        "  - 2 times the number of occurrences for the fifth group\n",
        "\n",
        "the last group doesn't need to be increased"
      ],
      "metadata": {
        "id": "geOHAS8u4x3U"
      }
    },
    {
      "cell_type": "markdown",
      "source": [
        "Let's try some rotation"
      ],
      "metadata": {
        "id": "iuTMBjBxJBoB"
      }
    },
    {
      "cell_type": "code",
      "source": [
        "import torchvision.transforms as T\n",
        "plt.imshow(dataset_gtsrb_t[0][0])\n",
        "plt.show()\n",
        "rotater = T.RandomRotation(degrees=(0, 180))\n",
        "rotated_imgs = [rotater(dataset_gtsrb_t[0][0]) for _ in range(6)]\n",
        "for imgs in rotated_imgs:\n",
        "  plt.imshow(imgs)\n",
        "  plt.show()\n"
      ],
      "metadata": {
        "id": "c9LeRlnm7t2O",
        "colab": {
          "base_uri": "https://localhost:8080/",
          "height": 1000
        },
        "outputId": "217eb84b-d9d6-4a48-9b8c-0f4975f3b16f"
      },
      "execution_count": 10,
      "outputs": [
        {
          "output_type": "display_data",
          "data": {
            "text/plain": [
              "<Figure size 640x480 with 1 Axes>"
            ],
            "image/png": "[encoded data removed]"
          },
          "metadata": {}
        },
        {
          "output_type": "display_data",
          "data": {
            "text/plain": [
              "<Figure size 640x480 with 1 Axes>"
            ],
            "image/png": "[encoded data removed]"
          },
          "metadata": {}
        },
        {
          "output_type": "display_data",
          "data": {
            "text/plain": [
              "<Figure size 640x480 with 1 Axes>"
            ],
            "image/png": "[encoded data removed]"
          },
          "metadata": {}
        },
        {
          "output_type": "display_data",
          "data": {
            "text/plain": [
              "<Figure size 640x480 with 1 Axes>"
            ],
            "image/png": "[encoded data removed]"
          },
          "metadata": {}
        },
        {
          "output_type": "display_data",
          "data": {
            "text/plain": [
              "<Figure size 640x480 with 1 Axes>"
            ],
            "image/png": "[encoded data removed]"
          },
          "metadata": {}
        },
        {
          "output_type": "display_data",
          "data": {
            "text/plain": [
              "<Figure size 640x480 with 1 Axes>"
            ],
            "image/png": "[encoded data removed]"
          },
          "metadata": {}
        },
        {
          "output_type": "display_data",
          "data": {
            "text/plain": [
              "<Figure size 640x480 with 1 Axes>"
            ],
            "image/png": "[encoded data removed]"
          },
          "metadata": {}
        }
      ]
    },
    {
      "cell_type": "markdown",
      "source": [
        "# Splitting in train and validation"
      ],
      "metadata": {
        "id": "xN0fhtHdQcCx"
      }
    },
    {
      "cell_type": "markdown",
      "source": [
        "we will split the dataset in train and validation with a percentage of 70% and 30% for training our network"
      ],
      "metadata": {
        "id": "HcxGlELwRM15"
      }
    },
    {
      "cell_type": "code",
      "source": [
        "train_set, val_set = torch.utils.data.random_split(dataset_gtsrb_t, [18648, 7992])"
      ],
      "metadata": {
        "id": "teHYLy0AQZBX"
      },
      "execution_count": 11,
      "outputs": []
    },
    {
      "cell_type": "markdown",
      "source": [
        "checking if the spilt was done correctly"
      ],
      "metadata": {
        "id": "8UixGvPjRuRb"
      }
    },
    {
      "cell_type": "code",
      "source": [
        "print(len(train_set))\n",
        "print(len(val_set))"
      ],
      "metadata": {
        "id": "doIeiXrXRnRo",
        "colab": {
          "base_uri": "https://localhost:8080/"
        },
        "outputId": "815f5204-b41c-4a59-8fdd-0fa1176f4a73"
      },
      "execution_count": 12,
      "outputs": [
        {
          "output_type": "stream",
          "name": "stdout",
          "text": [
            "18648\n",
            "7992\n"
          ]
        }
      ]
    },
    {
      "cell_type": "markdown",
      "source": [
        "# Data Preparation"
      ],
      "metadata": {
        "id": "o2i3tH2WSG_V"
      }
    },
    {
      "cell_type": "markdown",
      "source": [
        "now we will try some rotations for the data augmentation. At the same time we resized and normalized the images.\n",
        "\n"
      ],
      "metadata": {
        "id": "YgVPXwClR-wa"
      }
    },
    {
      "cell_type": "code",
      "source": [
        "vect = []\n",
        "\n",
        "rotater = T.RandomRotation(degrees=(225, 225))\n",
        "\n",
        "vect.append(rotater(dataset_gtsrb_t[0][0]))\n",
        "vect.append(rotater(dataset_gtsrb_t[3][0]))\n"
      ],
      "metadata": {
        "id": "GQ3KC0XYXxUf"
      },
      "execution_count": 13,
      "outputs": []
    },
    {
      "cell_type": "code",
      "source": [
        "resize = T.Resize((60,60))\n",
        "convert_tensor = transforms.ToTensor()\n",
        "rotater45 = T.RandomRotation(degrees=(225, 225))\n",
        "norm = transforms.Normalize((0.4914, 0.4822, 0.4465), (0.247, 0.243, 0.261))\n",
        "n_im = norm(convert_tensor(np.flip(resize(dataset_gtsrb_t[200][0]),(0,1)).copy()))\n",
        "\n",
        "print(n_im.size())"
      ],
      "metadata": {
        "colab": {
          "base_uri": "https://localhost:8080/"
        },
        "id": "-4P-06j3eLOX",
        "outputId": "92ebb1a7-e604-41c9-8e84-296c3c87486d"
      },
      "execution_count": null,
      "outputs": [
        {
          "output_type": "stream",
          "name": "stdout",
          "text": [
            "torch.Size([3, 60, 60])\n"
          ]
        }
      ]
    },
    {
      "cell_type": "code",
      "source": [
        "plt.imshow(vect[1])"
      ],
      "metadata": {
        "id": "5sfuQ3n9YAW6",
        "colab": {
          "base_uri": "https://localhost:8080/",
          "height": 448
        },
        "outputId": "37953f65-1a13-4e63-ba28-499dbcef0899"
      },
      "execution_count": null,
      "outputs": [
        {
          "output_type": "execute_result",
          "data": {
            "text/plain": [
              "<matplotlib.image.AxesImage at 0x7fd808ff6860>"
            ]
          },
          "metadata": {},
          "execution_count": 15
        },
        {
          "output_type": "display_data",
          "data": {
            "text/plain": [
              "<Figure size 640x480 with 1 Axes>"
            ],
            "image/png": "[encoded data removed]"
          },
          "metadata": {}
        }
      ]
    },
    {
      "cell_type": "markdown",
      "source": [
        "Let's apply the normalization, augmentation and resizing on the train an validation images"
      ],
      "metadata": {
        "id": "BLWBkJR43JWF"
      }
    },
    {
      "cell_type": "code",
      "source": [
        "from PIL import Image as im\n",
        "train_images = []\n",
        "train_labels = []\n",
        "\n",
        "convert_tensor = transforms.ToTensor()\n",
        "rotater45 = T.RandomRotation(degrees=(45, 45))\n",
        "rotater135 = T.RandomRotation(degrees=(135, 135))\n",
        "rotater225 = T.RandomRotation(degrees=(225, 225))\n",
        "resize = T.Resize((60,60))\n",
        "norm = transforms.Normalize((0.4914, 0.4822, 0.4465), (0.247, 0.243, 0.261))\n",
        "\n",
        "for images,targets in train_set:\n",
        "  if targets == 0 or targets == 19 or targets == 24 or targets == 29 or targets == 32 or targets == 37 or targets == 41 or targets == 42:\n",
        "    train_images.append(norm(convert_tensor(resize(images))))\n",
        "    train_images.append(norm(convert_tensor(np.fliplr(resize(images)).copy())))\n",
        "    train_images.append(norm(convert_tensor(np.flipud(resize(images)).copy())))\n",
        "    train_images.append(norm(convert_tensor(np.flip(resize(images), (0, 1)).copy())))\n",
        "    train_images.append(norm(convert_tensor(rotater45(resize(images)).copy())))\n",
        "    train_images.append(norm(convert_tensor(rotater135(resize(images)).copy())))\n",
        "    train_images.append(norm(convert_tensor(rotater225(resize(images)).copy())))\n",
        "    train_labels.append(targets)\n",
        "    train_labels.append(targets)\n",
        "    train_labels.append(targets)\n",
        "    train_labels.append(targets)\n",
        "    train_labels.append(targets)\n",
        "    train_labels.append(targets)\n",
        "    train_labels.append(targets)\n",
        "  elif targets == 20 or targets == 21 or targets == 22 or targets == 36 or targets == 39 or targets == 40:\n",
        "    train_images.append(norm(convert_tensor(resize(images))))\n",
        "    train_images.append(norm(convert_tensor(np.fliplr(resize(images)).copy())))\n",
        "    train_images.append(norm(convert_tensor(np.flipud(resize(images)).copy())))\n",
        "    train_images.append(norm(convert_tensor(np.flip(resize(images), (0, 1)).copy())))\n",
        "    train_images.append(norm(convert_tensor(rotater45(resize(images)).copy())))\n",
        "    train_images.append(norm(convert_tensor(rotater135(resize(images)).copy())))\n",
        "    train_labels.append(targets)\n",
        "    train_labels.append(targets)\n",
        "    train_labels.append(targets)\n",
        "    train_labels.append(targets)\n",
        "    train_labels.append(targets)\n",
        "    train_labels.append(targets)\n",
        "  elif targets == 6 or targets == 16 or targets == 23 or targets == 28 or targets == 30 or targets == 34:\n",
        "    train_images.append(norm(convert_tensor(resize(images))))\n",
        "    train_images.append(norm(convert_tensor(np.fliplr(resize(images)).copy())))\n",
        "    train_images.append(norm(convert_tensor(np.flipud(resize(images)).copy())))\n",
        "    train_images.append(norm(convert_tensor(np.flip(resize(images), (0, 1)).copy())))\n",
        "    train_labels.append(targets)\n",
        "    train_labels.append(targets)\n",
        "    train_labels.append(targets)\n",
        "    train_labels.append(targets)\n",
        "  elif targets == 15 or targets == 26 or targets == 33:\n",
        "    train_images.append(norm(convert_tensor(resize(images))))\n",
        "    train_images.append(norm(convert_tensor(np.fliplr(resize(images)).copy())))\n",
        "    train_images.append(norm(convert_tensor(np.flipud(resize(images)).copy())))\n",
        "    train_labels.append(targets)\n",
        "    train_labels.append(targets)\n",
        "    train_labels.append(targets)\n",
        "  elif targets == 14 or targets == 17 or targets == 18 or targets == 35:\n",
        "    train_images.append(norm(convert_tensor(resize(images))))\n",
        "    train_images.append(norm(convert_tensor(np.fliplr(resize(images)).copy())))\n",
        "    train_labels.append(targets)\n",
        "    train_labels.append(targets)\n",
        "  else:\n",
        "    train_images.append(norm(convert_tensor(resize(images))))\n",
        "    train_labels.append(targets)\n",
        "\n",
        "\n",
        "\n",
        "val_images = []\n",
        "val_labels = []\n",
        "\n",
        "for images,targets in val_set:\n",
        "  if targets == 0 or targets == 19 or targets == 24 or targets == 29 or targets == 32 or targets == 37 or targets == 41 or targets == 42:\n",
        "    val_images.append(norm(convert_tensor(resize(images))))\n",
        "    val_images.append(norm(convert_tensor(np.fliplr(resize(images)).copy())))\n",
        "    val_images.append(norm(convert_tensor(np.flipud(resize(images)).copy())))\n",
        "    val_images.append(norm(convert_tensor(np.flip(resize(images), (0, 1)).copy())))\n",
        "    val_images.append(norm(convert_tensor(rotater45(resize(images)).copy())))\n",
        "    val_images.append(norm(convert_tensor(rotater135(resize(images)).copy())))\n",
        "    val_images.append(norm(convert_tensor(rotater225(resize(images)).copy())))\n",
        "    val_labels.append(targets)\n",
        "    val_labels.append(targets)\n",
        "    val_labels.append(targets)\n",
        "    val_labels.append(targets)\n",
        "    val_labels.append(targets)\n",
        "    val_labels.append(targets)\n",
        "    val_labels.append(targets)\n",
        "  elif targets == 20 or targets == 21 or targets == 22 or targets == 36 or targets == 39 or targets == 40:\n",
        "    val_images.append(norm(convert_tensor(resize(images))))\n",
        "    val_images.append(norm(convert_tensor(np.fliplr(resize(images)).copy())))\n",
        "    val_images.append(norm(convert_tensor(np.flipud(resize(images)).copy())))\n",
        "    val_images.append(norm(convert_tensor(np.flip(resize(images), (0, 1)).copy())))\n",
        "    val_images.append(norm(convert_tensor(rotater45(resize(images)).copy())))\n",
        "    val_images.append(norm(convert_tensor(rotater135(resize(images)).copy())))\n",
        "    val_labels.append(targets)\n",
        "    val_labels.append(targets)\n",
        "    val_labels.append(targets)\n",
        "    val_labels.append(targets)\n",
        "    val_labels.append(targets)\n",
        "    val_labels.append(targets)\n",
        "  elif targets == 6 or targets == 16 or targets == 23 or targets == 28 or targets == 30 or targets == 34:\n",
        "    val_images.append(norm(convert_tensor(resize(images))))\n",
        "    val_images.append(norm(convert_tensor(np.fliplr(resize(images)).copy())))\n",
        "    val_images.append(norm(convert_tensor(np.flipud(resize(images)).copy())))\n",
        "    val_images.append(norm(convert_tensor(np.flip(resize(images), (0, 1)).copy())))\n",
        "    val_labels.append(targets)\n",
        "    val_labels.append(targets)\n",
        "    val_labels.append(targets)\n",
        "    val_labels.append(targets)\n",
        "  elif targets == 15 or targets == 26 or targets == 33:\n",
        "    val_images.append(norm(convert_tensor(resize(images))))\n",
        "    val_images.append(norm(convert_tensor(np.fliplr(resize(images)).copy())))\n",
        "    val_images.append(norm(convert_tensor(np.flipud(resize(images)).copy())))\n",
        "    val_labels.append(targets)\n",
        "    val_labels.append(targets)\n",
        "    val_labels.append(targets)\n",
        "  elif targets == 14 or targets == 17 or targets == 18 or targets == 35:\n",
        "    val_images.append(norm(convert_tensor(resize(images))))\n",
        "    val_images.append(norm(convert_tensor(np.fliplr(resize(images)).copy())))\n",
        "    val_labels.append(targets)\n",
        "    val_labels.append(targets)\n",
        "  else:\n",
        "    val_images.append(norm(convert_tensor(resize(images))))\n",
        "    val_labels.append(targets)\n"
      ],
      "metadata": {
        "id": "4uxCqdj-R9ka"
      },
      "execution_count": 14,
      "outputs": []
    },
    {
      "cell_type": "code",
      "source": [
        "print(len(train_images))\n",
        "print(len(train_labels))"
      ],
      "metadata": {
        "id": "9s1zO33mseto",
        "colab": {
          "base_uri": "https://localhost:8080/"
        },
        "outputId": "faa53804-2da4-4b60-ac65-66aea0ee7d20"
      },
      "execution_count": 15,
      "outputs": [
        {
          "output_type": "stream",
          "name": "stdout",
          "text": [
            "37236\n",
            "37236\n"
          ]
        }
      ]
    },
    {
      "cell_type": "code",
      "source": [
        "print(len(val_images))\n",
        "print(len(val_labels))"
      ],
      "metadata": {
        "id": "yqeRP1Fcsj0S",
        "colab": {
          "base_uri": "https://localhost:8080/"
        },
        "outputId": "2c5f984e-d093-4930-88db-a1773145147b"
      },
      "execution_count": 16,
      "outputs": [
        {
          "output_type": "stream",
          "name": "stdout",
          "text": [
            "16164\n",
            "16164\n"
          ]
        }
      ]
    },
    {
      "cell_type": "markdown",
      "source": [
        "how we can see the percentage is the same (70 for the train 30 for validation)\n"
      ],
      "metadata": {
        "id": "VK5sgN8at6iZ"
      }
    },
    {
      "cell_type": "markdown",
      "source": [
        "# Defining Datasets, CNN and Dataloaders"
      ],
      "metadata": {
        "id": "B_8GodGeu81y"
      }
    },
    {
      "cell_type": "markdown",
      "source": [
        "we will define the 2 datasets for train and validation"
      ],
      "metadata": {
        "id": "6z-Ma3Jhvd6H"
      }
    },
    {
      "cell_type": "code",
      "source": [
        "class MyDataset(Dataset):\n",
        "    def __init__(self, data, targets):\n",
        "        self.data = data\n",
        "        self.targets = targets\n",
        "\n",
        "    def __getitem__(self, index):\n",
        "        x = self.data[index]\n",
        "        y = self.targets[index]\n",
        "\n",
        "\n",
        "\n",
        "        return x, y\n",
        "\n",
        "    def __len__(self):\n",
        "        return len(self.targets)"
      ],
      "metadata": {
        "id": "9l31-N_Du8Ev"
      },
      "execution_count": 17,
      "outputs": []
    },
    {
      "cell_type": "code",
      "source": [
        "train_data = MyDataset(train_images,train_labels)\n",
        "val_data = MyDataset(val_images,val_labels)"
      ],
      "metadata": {
        "id": "0K2naQH8vQTp"
      },
      "execution_count": 18,
      "outputs": []
    },
    {
      "cell_type": "markdown",
      "source": [
        "now we will define a CNN"
      ],
      "metadata": {
        "id": "bc_-EAkqvq0C"
      }
    },
    {
      "cell_type": "code",
      "source": [
        "class CNNfdp(nn.Module):\n",
        "  def __init__(self,num_classes):\n",
        "    super(CNNfdp, self).__init__()\n",
        "    self.conv_layer1 = nn.Conv2d(in_channels=3, out_channels=128, kernel_size=3, padding=2)\n",
        "    self.conv_layer2 = nn.Conv2d(in_channels=128, out_channels=256, kernel_size=3, padding=2)\n",
        "    self.conv_layer3 = nn.Conv2d(in_channels=256, out_channels=512, kernel_size=3, padding=2)\n",
        "\n",
        "    self.maxpool_lyr = nn.MaxPool2d(kernel_size=2, stride=2)\n",
        "    self.dropout_lyr = nn.Dropout(0.25)\n",
        "\n",
        "    self.fc1 = nn.Linear(41472, 128)\n",
        "    self.fc_final = nn.Linear(128, num_classes)\n",
        "\n",
        "\n",
        "  def forward(self, x):\n",
        "    x = self.maxpool_lyr(F.relu(self.conv_layer1(x)))\n",
        "    x = self.maxpool_lyr(F.relu(self.conv_layer2(x)))\n",
        "    x = self.maxpool_lyr(F.relu(self.conv_layer3(x)))\n",
        "    x= x.view(-1, 41472)\n",
        "    x = F.relu(self.fc1(x))\n",
        "    x = self.dropout_lyr(x)\n",
        "    x = self.fc_final(x)\n",
        "    return x"
      ],
      "metadata": {
        "id": "JW1u3WLzvdGP"
      },
      "execution_count": 19,
      "outputs": []
    },
    {
      "cell_type": "markdown",
      "source": [
        "the last thing is the dataloader"
      ],
      "metadata": {
        "id": "Q2sQT8uAv3IP"
      }
    },
    {
      "cell_type": "code",
      "source": [
        "Batch_size = 16\n",
        "\n",
        "\n",
        "dataloader_train = DataLoader(train_data, batch_size=Batch_size)\n",
        "dataloader_val = DataLoader(val_data, batch_size=Batch_size)"
      ],
      "metadata": {
        "id": "tX6GiO_xv1Hi"
      },
      "execution_count": 20,
      "outputs": []
    },
    {
      "cell_type": "markdown",
      "source": [
        "# Training"
      ],
      "metadata": {
        "id": "edviIhQ6wJKx"
      }
    },
    {
      "cell_type": "code",
      "source": [
        "learning_rate= 0.01\n",
        "startEpoch =0\n",
        "numEpochs =15\n",
        "model = CNNfdp(43).cuda()\n",
        "criterion = nn.CrossEntropyLoss()\n",
        "index =0\n",
        "best_acc = 0\n",
        "best_loss = 1\n",
        "optimizer = torch.optim.SGD(model.parameters(), lr=learning_rate)\n",
        "for epochs in range(startEpoch,numEpochs + 1):\n",
        "  modelLoss_train = 0.0\n",
        "  modelAcc_train = 0.0\n",
        "  totalSize = 0\n",
        "  for inputs,target in dataloader_train:\n",
        "    optimizer.zero_grad()\n",
        "    inputs = inputs.type(torch.FloatTensor).cuda()\n",
        "    target = target.cuda()\n",
        "    output = model(inputs)\n",
        "    outp,preds = torch.max(output,1)\n",
        "    loss = criterion(output,target)\n",
        "\n",
        "    modelLoss_train += loss.item()*inputs.size(0)\n",
        "    totalSize += inputs.size(0)\n",
        "    modelAcc_train += torch.sum(preds == target).item()\n",
        "    #print(preds)\n",
        "    loss.backward()\n",
        "    optimizer.step()\n",
        "    index += 1\n",
        "\n",
        "  modelLoss_epoch_train = modelLoss_train/totalSize\n",
        "  modelAcc_epoch_train = modelAcc_train/totalSize\n",
        "\n",
        "  #salvataggio stato\n",
        "  torch.save(model.state_dict(), '/train_weights.pth')\n",
        "  model.eval()\n",
        "\n",
        "  totalSize_val = 0\n",
        "  modelLoss_val = 0.0\n",
        "  modelAcc_val = 0.0\n",
        "\n",
        "  for inputs,labels in dataloader_val:\n",
        "        inputs = inputs.type(torch.FloatTensor).cuda()\n",
        "        labels = labels.cuda()\n",
        "\n",
        "        y = model(inputs)\n",
        "        outp, preds = torch.max(y,1)\n",
        "        lossCNN = criterion(y,labels)\n",
        "\n",
        "        modelLoss_val += lossCNN.item()*inputs.size(0)\n",
        "        totalSize_val += inputs.size(0)\n",
        "        modelAcc_val += torch.sum(preds == labels.data).item()\n",
        "\n",
        "  modelLoss_epoch_val = modelLoss_val/totalSize_val\n",
        "  modelAcc_epoch_val = modelAcc_val/totalSize_val\n",
        "  print('Epoch[%d] Train Acc: %.4f , Loss: %.4f ; Validation Acc: %.4f , Loss: %.4f'%(epochs, modelAcc_epoch_train, modelLoss_epoch_train, modelAcc_epoch_val, modelLoss_epoch_val));\n",
        "\n",
        "  if(modelAcc_epoch_val > best_acc) or (modelAcc_epoch_val == best_acc and modelLoss_epoch_val < best_loss):\n",
        "        print('..... Saving best weights ....')\n",
        "        best_acc = modelAcc_epoch_val\n",
        "        best_loss = modelLoss_epoch_val\n",
        "        best_epoca = epochs\n",
        "\n",
        "        torch.save(model.state_dict(), '/content/best_model_weights.pth')\n",
        "\n",
        "  with open('/content/lossVal.txt', \"a\") as file_object:\n",
        "        file_object.write(str(modelLoss_epoch_val)+ '\\n')\n",
        "\n",
        "  with open('/content/AccVal.txt',\"a\") as file_object:\n",
        "        file_object.write(str(modelAcc_epoch_val)+ '\\n')\n",
        "\n",
        "  with open('/content/lossTrain.txt', \"a\") as file_object:\n",
        "        file_object.write(str(modelLoss_epoch_train)+ '\\n')\n",
        "\n",
        "  with open('/content/AccTrain.txt',\"a\") as file_object:\n",
        "        file_object.write(str(modelAcc_epoch_train)+ '\\n')"
      ],
      "metadata": {
        "id": "Ag-caDZYyihc",
        "colab": {
          "base_uri": "https://localhost:8080/"
        },
        "outputId": "db97f696-671f-4140-d397-cb9a69e6bff2"
      },
      "execution_count": 22,
      "outputs": [
        {
          "output_type": "stream",
          "name": "stdout",
          "text": [
            "Epoch[0] Train Acc: 0.2023 , Loss: 2.7859 ; Validation Acc: 0.3984 , Loss: 1.8118\n",
            "..... Saving best weights ....\n",
            "Epoch[1] Train Acc: 0.5954 , Loss: 1.2107 ; Validation Acc: 0.7471 , Loss: 0.7555\n",
            "..... Saving best weights ....\n",
            "Epoch[2] Train Acc: 0.8297 , Loss: 0.5229 ; Validation Acc: 0.8886 , Loss: 0.3597\n",
            "..... Saving best weights ....\n",
            "Epoch[3] Train Acc: 0.9244 , Loss: 0.2408 ; Validation Acc: 0.9327 , Loss: 0.2165\n",
            "..... Saving best weights ....\n",
            "Epoch[4] Train Acc: 0.9640 , Loss: 0.1221 ; Validation Acc: 0.9642 , Loss: 0.1307\n",
            "..... Saving best weights ....\n",
            "Epoch[5] Train Acc: 0.9840 , Loss: 0.0596 ; Validation Acc: 0.9698 , Loss: 0.1155\n",
            "..... Saving best weights ....\n",
            "Epoch[6] Train Acc: 0.9906 , Loss: 0.0359 ; Validation Acc: 0.9703 , Loss: 0.1106\n",
            "..... Saving best weights ....\n",
            "Epoch[7] Train Acc: 0.9911 , Loss: 0.0336 ; Validation Acc: 0.9764 , Loss: 0.1026\n",
            "..... Saving best weights ....\n",
            "Epoch[8] Train Acc: 0.9937 , Loss: 0.0251 ; Validation Acc: 0.9779 , Loss: 0.0988\n",
            "..... Saving best weights ....\n",
            "Epoch[9] Train Acc: 0.9940 , Loss: 0.0330 ; Validation Acc: 0.9826 , Loss: 0.0733\n",
            "..... Saving best weights ....\n",
            "Epoch[10] Train Acc: 0.9991 , Loss: 0.0066 ; Validation Acc: 0.9851 , Loss: 0.0732\n",
            "..... Saving best weights ....\n",
            "Epoch[11] Train Acc: 0.9979 , Loss: 0.0102 ; Validation Acc: 0.9866 , Loss: 0.0687\n",
            "..... Saving best weights ....\n",
            "Epoch[12] Train Acc: 0.9997 , Loss: 0.0024 ; Validation Acc: 0.9871 , Loss: 0.0707\n",
            "..... Saving best weights ....\n",
            "Epoch[13] Train Acc: 1.0000 , Loss: 0.0009 ; Validation Acc: 0.9873 , Loss: 0.0732\n",
            "..... Saving best weights ....\n",
            "Epoch[14] Train Acc: 1.0000 , Loss: 0.0006 ; Validation Acc: 0.9873 , Loss: 0.0749\n",
            "Epoch[15] Train Acc: 1.0000 , Loss: 0.0005 ; Validation Acc: 0.9873 , Loss: 0.0763\n"
          ]
        }
      ]
    },
    {
      "cell_type": "markdown",
      "source": [
        "We can see our loss and Accouracy"
      ],
      "metadata": {
        "id": "75s-f0062PKO"
      }
    },
    {
      "cell_type": "code",
      "source": [
        "\n",
        "lossModel_Train = []\n",
        "lossModel_val = []\n",
        "accModel_Train = []\n",
        "accModel_val = []\n",
        "\n",
        "WeightPath = '/content/'\n",
        "file = open(WeightPath + 'lossTrain.txt', 'r')\n",
        "Testo = file.readlines()\n",
        "for element in Testo:\n",
        "  lossModel_Train.append(float(element))\n",
        "\n",
        "file = open(WeightPath + 'lossVal.txt', 'r')\n",
        "Testo = file.readlines()\n",
        "for element in Testo:\n",
        "  lossModel_val.append(float(element))\n",
        "\n",
        "plt.figure()\n",
        "plt.title(\"Model: Training Vs Validation Losses\")\n",
        "plt.xlabel('Epoch')\n",
        "plt.ylabel('Loss')\n",
        "plt.plot(list(range(1,len(lossModel_Train)+1)), lossModel_Train, color='r', label=\"Training Loss\")\n",
        "plt.plot(list(range(1, len(lossModel_val)+1)), lossModel_val, color='g', label=\"Validation Loss\")\n",
        "plt.legend()\n",
        "plt.savefig(WeightPath + 'LossTrainVal.png')\n",
        "\n",
        "file = open(WeightPath + 'AccTrain.txt', 'r')\n",
        "Testo = file.readlines()\n",
        "for element in Testo:\n",
        "  accModel_Train.append(float(element))\n",
        "\n",
        "file = open(WeightPath + 'AccVal.txt', 'r')\n",
        "Testo = file.readlines()\n",
        "for element in Testo:\n",
        "  accModel_val.append(float(element))\n",
        "\n",
        "plt.figure()\n",
        "plt.title(\"Training Vs Validation Accuracies\")\n",
        "plt.xlabel('Epoch')\n",
        "plt.ylabel('Accuracy')\n",
        "plt.plot(list(range(1, len(accModel_Train)+1)), accModel_Train, color='r', label=\"Training Accuracy\")\n",
        "plt.plot(list(range(1, len(accModel_val)+1)), accModel_val, color='g', label=\"Validation Accuracy\")\n",
        "plt.legend()\n",
        "plt.savefig(WeightPath + 'AccTrainVal.png')"
      ],
      "metadata": {
        "colab": {
          "base_uri": "https://localhost:8080/",
          "height": 927
        },
        "id": "FAeGDwrX2Vmw",
        "outputId": "d8050516-ab14-422d-d971-44af51181358"
      },
      "execution_count": 34,
      "outputs": [
        {
          "output_type": "display_data",
          "data": {
            "text/plain": [
              "<Figure size 640x480 with 1 Axes>"
            ],
            "image/png": "[encoded data removed]"
          },
          "metadata": {}
        },
        {
          "output_type": "display_data",
          "data": {
            "text/plain": [
              "<Figure size 640x480 with 1 Axes>"
            ],
            "image/png": "[encoded data removed]"
          },
          "metadata": {}
        }
      ]
    },
    {
      "cell_type": "markdown",
      "source": [
        "# Testing"
      ],
      "metadata": {
        "id": "t88LOVPOzWZY"
      }
    },
    {
      "cell_type": "markdown",
      "source": [
        "Now we will download the test"
      ],
      "metadata": {
        "id": "aXqnvdhgzZHh"
      }
    },
    {
      "cell_type": "code",
      "source": [
        "test_gtsrb = torchvision.datasets.GTSRB('/content/GTSRB_root', download=True, split='test')"
      ],
      "metadata": {
        "colab": {
          "base_uri": "https://localhost:8080/"
        },
        "id": "dQevaUBEydoq",
        "outputId": "a8e5165f-8f63-4dbc-c126-d38d666eef9a"
      },
      "execution_count": 24,
      "outputs": [
        {
          "output_type": "stream",
          "name": "stdout",
          "text": [
            "Downloading https://sid.erda.dk/public/archives/daaeac0d7ce1152aea9b61d9f1e19370/GTSRB_Final_Test_Images.zip to /content/GTSRB_root/gtsrb/GTSRB_Final_Test_Images.zip\n"
          ]
        },
        {
          "output_type": "stream",
          "name": "stderr",
          "text": [
            "100%|██████████| 88978620/88978620 [00:00<00:00, 102246521.41it/s]\n"
          ]
        },
        {
          "output_type": "stream",
          "name": "stdout",
          "text": [
            "Extracting /content/GTSRB_root/gtsrb/GTSRB_Final_Test_Images.zip to /content/GTSRB_root/gtsrb\n",
            "Downloading https://sid.erda.dk/public/archives/daaeac0d7ce1152aea9b61d9f1e19370/GTSRB_Final_Test_GT.zip to /content/GTSRB_root/gtsrb/GTSRB_Final_Test_GT.zip\n"
          ]
        },
        {
          "output_type": "stream",
          "name": "stderr",
          "text": [
            "100%|██████████| 99620/99620 [00:00<00:00, 2370206.34it/s]"
          ]
        },
        {
          "output_type": "stream",
          "name": "stdout",
          "text": [
            "Extracting /content/GTSRB_root/gtsrb/GTSRB_Final_Test_GT.zip to /content/GTSRB_root/gtsrb\n"
          ]
        },
        {
          "output_type": "stream",
          "name": "stderr",
          "text": [
            "\n"
          ]
        }
      ]
    },
    {
      "cell_type": "code",
      "source": [
        "print(len(test_gtsrb))"
      ],
      "metadata": {
        "colab": {
          "base_uri": "https://localhost:8080/"
        },
        "id": "xns55WQGzMx9",
        "outputId": "422b5bef-867c-43b2-e947-ba72f4838a74"
      },
      "execution_count": 25,
      "outputs": [
        {
          "output_type": "stream",
          "name": "stdout",
          "text": [
            "12630\n"
          ]
        }
      ]
    },
    {
      "cell_type": "markdown",
      "source": [
        "Let's apply on test set each operation that we did on train"
      ],
      "metadata": {
        "id": "5XQhT_wHzfRW"
      }
    },
    {
      "cell_type": "code",
      "source": [
        "images_test = []\n",
        "labels_test = []\n",
        "\n",
        "for images,targets in test_gtsrb:\n",
        "  images_test.append(norm(convert_tensor(resize(images))))\n",
        "  labels_test.append(targets)"
      ],
      "metadata": {
        "id": "hT1MESI1zeP1"
      },
      "execution_count": 26,
      "outputs": []
    },
    {
      "cell_type": "markdown",
      "source": [
        "Now we will create Dataset and Dataloader for the test"
      ],
      "metadata": {
        "id": "-gO_E5St0P27"
      }
    },
    {
      "cell_type": "code",
      "source": [
        "test_data = MyDataset(images_test,labels_test)"
      ],
      "metadata": {
        "id": "gZKY6thF0VFu"
      },
      "execution_count": 27,
      "outputs": []
    },
    {
      "cell_type": "code",
      "source": [
        "dataloader_test = DataLoader(test_data, batch_size=Batch_size)"
      ],
      "metadata": {
        "id": "s5k1wbY00hzP"
      },
      "execution_count": 28,
      "outputs": []
    },
    {
      "cell_type": "markdown",
      "source": [
        "Now we can use the cnn and give it our test"
      ],
      "metadata": {
        "id": "uz_wj9CF0pT_"
      }
    },
    {
      "cell_type": "code",
      "source": [
        "model_best = CNNfdp(43)\n",
        "model_best.load_state_dict(torch.load('/content/best_model_weights.pth'))\n",
        "model_best.eval()"
      ],
      "metadata": {
        "colab": {
          "base_uri": "https://localhost:8080/"
        },
        "id": "jDdpo0cS0yeF",
        "outputId": "8b9d1fb7-6c47-4e76-dade-6446b637fda1"
      },
      "execution_count": 30,
      "outputs": [
        {
          "output_type": "execute_result",
          "data": {
            "text/plain": [
              "CNNfdp(\n",
              "  (conv_layer1): Conv2d(3, 128, kernel_size=(3, 3), stride=(1, 1), padding=(2, 2))\n",
              "  (conv_layer2): Conv2d(128, 256, kernel_size=(3, 3), stride=(1, 1), padding=(2, 2))\n",
              "  (conv_layer3): Conv2d(256, 512, kernel_size=(3, 3), stride=(1, 1), padding=(2, 2))\n",
              "  (maxpool_lyr): MaxPool2d(kernel_size=2, stride=2, padding=0, dilation=1, ceil_mode=False)\n",
              "  (dropout_lyr): Dropout(p=0.25, inplace=False)\n",
              "  (fc1): Linear(in_features=41472, out_features=128, bias=True)\n",
              "  (fc_final): Linear(in_features=128, out_features=43, bias=True)\n",
              ")"
            ]
          },
          "metadata": {},
          "execution_count": 30
        }
      ]
    },
    {
      "cell_type": "code",
      "source": [
        "totalSize_test = 0\n",
        "modelAcc_test = 0.0\n",
        "\n",
        "for inputs,labels in dataloader_test:\n",
        "        inputs = inputs.type(torch.FloatTensor).cuda()\n",
        "        labels = labels.cuda()\n",
        "\n",
        "        y = model(inputs)\n",
        "        outp, preds = torch.max(y,1)\n",
        "        lossCNN = criterion(y,labels)\n",
        "\n",
        "        totalSize_test += inputs.size(0)\n",
        "        modelAcc_test += torch.sum(preds == labels.data).item()\n",
        "\n",
        "modelAcc_epoch_test = modelAcc_test/totalSize_test\n",
        "print('Acc : %.4f'%modelAcc_epoch_test)"
      ],
      "metadata": {
        "colab": {
          "base_uri": "https://localhost:8080/"
        },
        "id": "f-XknsT40-ZE",
        "outputId": "42b2ae88-1541-4f90-8adc-0df11c378dd3"
      },
      "execution_count": 33,
      "outputs": [
        {
          "output_type": "stream",
          "name": "stdout",
          "text": [
            "Acc : 0.8481\n"
          ]
        }
      ]
    }
  ]
}